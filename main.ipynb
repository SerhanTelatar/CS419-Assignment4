{
 "cells": [
  {
   "cell_type": "code",
   "execution_count": 4,
   "metadata": {},
   "outputs": [
    {
     "name": "stdout",
     "output_type": "stream",
     "text": [
      "Defaulting to user installation because normal site-packages is not writeable\n",
      "Requirement already satisfied: scikit-image in c:\\users\\telat\\appdata\\roaming\\python\\python312\\site-packages (0.24.0)\n",
      "Requirement already satisfied: numpy>=1.23 in c:\\users\\telat\\appdata\\roaming\\python\\python312\\site-packages (from scikit-image) (1.26.4)\n",
      "Requirement already satisfied: scipy>=1.9 in c:\\users\\telat\\appdata\\roaming\\python\\python312\\site-packages (from scikit-image) (1.14.1)\n",
      "Requirement already satisfied: networkx>=2.8 in c:\\users\\telat\\appdata\\roaming\\python\\python312\\site-packages (from scikit-image) (3.4.2)\n",
      "Requirement already satisfied: pillow>=9.1 in c:\\users\\telat\\appdata\\roaming\\python\\python312\\site-packages (from scikit-image) (11.0.0)\n",
      "Requirement already satisfied: imageio>=2.33 in c:\\users\\telat\\appdata\\roaming\\python\\python312\\site-packages (from scikit-image) (2.36.1)\n",
      "Requirement already satisfied: tifffile>=2022.8.12 in c:\\users\\telat\\appdata\\roaming\\python\\python312\\site-packages (from scikit-image) (2024.9.20)\n",
      "Requirement already satisfied: packaging>=21 in c:\\users\\telat\\appdata\\roaming\\python\\python312\\site-packages (from scikit-image) (24.2)\n",
      "Requirement already satisfied: lazy-loader>=0.4 in c:\\users\\telat\\appdata\\roaming\\python\\python312\\site-packages (from scikit-image) (0.4)\n"
     ]
    }
   ],
   "source": [
    "!pip install scikit-image"
   ]
  },
  {
   "cell_type": "code",
   "execution_count": 109,
   "metadata": {},
   "outputs": [],
   "source": [
    "import os\n",
    "import numpy as np\n",
    "import cv2\n",
    "from skimage.feature import local_binary_pattern, graycoprops, graycomatrix\n",
    "from sklearn.metrics import accuracy_score\n",
    "from scipy.spatial.distance import cdist\n",
    "from skimage.filters import gabor\n",
    "from sklearn.neighbors import KNeighborsClassifier\n",
    "\n"
   ]
  },
  {
   "cell_type": "code",
   "execution_count": 110,
   "metadata": {},
   "outputs": [
    {
     "name": "stderr",
     "output_type": "stream",
     "text": [
      "<>:4: SyntaxWarning: invalid escape sequence '\\i'\n",
      "<>:4: SyntaxWarning: invalid escape sequence '\\i'\n",
      "C:\\Users\\telat\\AppData\\Local\\Temp\\ipykernel_1144\\167279313.py:4: SyntaxWarning: invalid escape sequence '\\i'\n",
      "  data_dir = \"Outex_TC_00012\\images\"\n"
     ]
    }
   ],
   "source": [
    "num_classes = 24\n",
    "train_samples_per_class = 20\n",
    "\n",
    "data_dir = \"Outex_TC_00012\\images\"\n",
    "train_txt_path = \"Outex_TC_00012/001/train.txt\"\n",
    "test_txt_path = \"Outex_TC_00012/001/test.txt\"\n",
    "train_size = 480"
   ]
  },
  {
   "cell_type": "code",
   "execution_count": 111,
   "metadata": {},
   "outputs": [
    {
     "name": "stdout",
     "output_type": "stream",
     "text": [
      "Train set size: 480\n",
      "Test set size: 4320\n"
     ]
    }
   ],
   "source": [
    "def load_images(base_dir):\n",
    "    images = []\n",
    "    all_files = sorted([f for f in os.listdir(base_dir) if f.endswith('.bmp')])\n",
    "\n",
    "    for file in all_files:\n",
    "        file_path = os.path.join(base_dir, file)\n",
    "\n",
    "        img = cv2.imread(file_path)\n",
    "        gray = cv2.cvtColor(img, cv2.COLOR_BGR2GRAY)\n",
    "        images.append(gray)\n",
    "    \n",
    "    return np.array(images)\n",
    "\n",
    "def read_labels(txt_path):\n",
    "        labels = []\n",
    "        with open(txt_path, 'r') as f:\n",
    "            next(f)\n",
    "            for line in f:\n",
    "                _, label = line.strip().split(' ')\n",
    "                labels.append(int(label))\n",
    "        return labels\n",
    "\n",
    "def load_labels(train_txt_path, test_txt_path):\n",
    "    train_labels = read_labels(train_txt_path)\n",
    "    test_labels = read_labels(test_txt_path)\n",
    "\n",
    "    return train_labels, test_labels\n",
    "\n",
    "\n",
    "X = load_images(data_dir)\n",
    "train_labels, test_labels = load_labels(train_txt_path, test_txt_path)\n",
    "\n",
    "train_size = len(train_labels)\n",
    "\n",
    "X_train = X[:train_size]\n",
    "y_train = train_labels\n",
    "X_test = X[4800:]\n",
    "y_test = test_labels\n",
    "\n",
    "print(\"Train set size:\", len(X_train))\n",
    "print(\"Test set size:\", len(X_test))\n",
    "\n"
   ]
  },
  {
   "cell_type": "code",
   "execution_count": 112,
   "metadata": {},
   "outputs": [],
   "source": [
    "def nearest_neighbor_classification(X_train, y_train, X_test, metric='euclidean'):\n",
    "    distances = cdist(X_test, X_train, metric=metric)\n",
    "    nearest_neighbors = np.argmin(distances, axis=1)\n",
    "    predictions = [y_train[idx] for idx in nearest_neighbors]\n",
    "    return predictions"
   ]
  },
  {
   "cell_type": "markdown",
   "metadata": {},
   "source": [
    "### **Local binary patterns**"
   ]
  },
  {
   "cell_type": "code",
   "execution_count": 113,
   "metadata": {},
   "outputs": [
    {
     "name": "stdout",
     "output_type": "stream",
     "text": [
      "LBP Classification Accuracy: 74.58%\n"
     ]
    }
   ],
   "source": [
    "def extract_lbp_features(images, radius=1, n_points=8):\n",
    "    lbp_features = []\n",
    "    for img in images:\n",
    "        lbp = local_binary_pattern(img, n_points, radius, method=\"uniform\")\n",
    "        n_bins = n_points + 2\n",
    "        hist, _ = np.histogram(lbp.ravel(), bins=n_bins, range=(0, n_bins), density=True)\n",
    "        lbp_features.append(hist)\n",
    "    \n",
    "    return np.array(lbp_features)\n",
    "\n",
    "radius = 5\n",
    "n_points = 5 * radius\n",
    "\n",
    "X_train_lbp = extract_lbp_features(X_train, radius=radius, n_points=n_points)\n",
    "X_test_lbp = extract_lbp_features(X_test, radius=radius, n_points=n_points)\n",
    "\n",
    "y_pred = nearest_neighbor_classification(X_train_lbp, y_train, X_test_lbp)\n",
    "\n",
    "accuracy = accuracy_score(y_test, y_pred)\n",
    "print(f\"LBP Classification Accuracy: {accuracy * 100:.2f}%\")\n"
   ]
  },
  {
   "cell_type": "markdown",
   "metadata": {},
   "source": [
    "### **Gray level co-occurrence matrices**"
   ]
  },
  {
   "cell_type": "code",
   "execution_count": 114,
   "metadata": {},
   "outputs": [
    {
     "name": "stdout",
     "output_type": "stream",
     "text": [
      "GLCM Classification Accuracy: 52.48%\n"
     ]
    }
   ],
   "source": [
    "def extract_glcm_features(images, distances=[1], angles=[0], levels=256, props=['contrast', 'dissimilarity', 'homogeneity', 'energy', 'correlation']):\n",
    "    glcm_features = []\n",
    "    for img in images:\n",
    "        glcm = graycomatrix(img, distances=distances, angles=angles, levels=levels, symmetric=True, normed=True)\n",
    "        \n",
    "        feature_vector = []\n",
    "        for prop in props:\n",
    "            feature = graycoprops(glcm, prop).flatten()\n",
    "            feature_vector.extend(feature)\n",
    "        \n",
    "        glcm_features.append(feature_vector)\n",
    "    \n",
    "    return np.array(glcm_features)\n",
    "\n",
    "distances = [2, 3, 4, 5, 6]\n",
    "angles = [0, np.pi/6, np.pi/4, np.pi/2, 2*np.pi/3, 3*np.pi/4]\n",
    "\n",
    "X_train_glcm = extract_glcm_features(X_train, distances=distances, angles=angles)\n",
    "X_test_glcm = extract_glcm_features(X_test, distances=distances, angles=angles)\n",
    "\n",
    "y_pred_glcm = nearest_neighbor_classification(X_train_glcm, y_train, X_test_glcm)\n",
    "\n",
    "accuracy_glcm = accuracy_score(y_test, y_pred_glcm)\n",
    "print(f\"GLCM Classification Accuracy: {accuracy_glcm * 100:.2f}%\")\n",
    "\n"
   ]
  },
  {
   "cell_type": "markdown",
   "metadata": {},
   "source": [
    "### **Fourier transform based texture descriptors**"
   ]
  },
  {
   "cell_type": "code",
   "execution_count": 115,
   "metadata": {},
   "outputs": [
    {
     "name": "stdout",
     "output_type": "stream",
     "text": [
      "Fourier Classification Accuracy: 51.88%\n"
     ]
    }
   ],
   "source": [
    "def extract_fourier_features(images, low_freq_cutoff=10):\n",
    "    fourier_features = []\n",
    "    for img in images:\n",
    "        f_transform = np.fft.fft2(img)\n",
    "        f_shift = np.fft.fftshift(f_transform)\n",
    "        \n",
    "        magnitude_spectrum = np.abs(f_shift)\n",
    "\n",
    "        center = (magnitude_spectrum.shape[0] // 2, magnitude_spectrum.shape[1] // 2)\n",
    "        low_freq_region = magnitude_spectrum[\n",
    "            center[0] - low_freq_cutoff:center[0] + low_freq_cutoff,\n",
    "            center[1] - low_freq_cutoff:center[1] + low_freq_cutoff\n",
    "        ]\n",
    "        \n",
    "        feature_vector = low_freq_region.flatten()\n",
    "        feature_vector = feature_vector / np.sum(feature_vector)\n",
    "        fourier_features.append(feature_vector)\n",
    "\n",
    "    return np.array(fourier_features)\n",
    "\n",
    "low_freq_cutoff = 26\n",
    "\n",
    "X_train_fourier = extract_fourier_features(X_train, low_freq_cutoff=low_freq_cutoff)\n",
    "X_test_fourier = extract_fourier_features(X_test, low_freq_cutoff=low_freq_cutoff)\n",
    "\n",
    "y_pred_fourier = nearest_neighbor_classification(X_train_fourier, y_train, X_test_fourier)\n",
    "\n",
    "accuracy_fourier = accuracy_score(y_test, y_pred_fourier)\n",
    "print(f\"Fourier Classification Accuracy: {accuracy_fourier * 100:.2f}%\")\n"
   ]
  },
  {
   "cell_type": "markdown",
   "metadata": {},
   "source": [
    "### **Gabor filterbanks**"
   ]
  },
  {
   "cell_type": "code",
   "execution_count": 116,
   "metadata": {},
   "outputs": [
    {
     "name": "stdout",
     "output_type": "stream",
     "text": [
      "Gabor Classification Accuracy: 59.03%\n"
     ]
    }
   ],
   "source": [
    "def extract_gabor_features(images, frequencies=[0.1, 0.2, 0.3], thetas=[0, np.pi/4, np.pi/2, 3*np.pi/4]):\n",
    "    gabor_features = []\n",
    "    for img in images:\n",
    "        feature_vector = []\n",
    "        for theta in thetas:\n",
    "            for freq in frequencies:\n",
    "                filt_real, filt_imag = gabor(img, frequency=freq, theta=theta)\n",
    "\n",
    "                feature_vector.append(filt_real.mean())\n",
    "                feature_vector.append(filt_real.std())\n",
    "        gabor_features.append(feature_vector)\n",
    "\n",
    "    return np.array(gabor_features)\n",
    "\n",
    "frequencies = [0.1, 0.2, 0.3, 0.5, 1, 5, 10]\n",
    "thetas = [0, np.pi/6, np.pi/4, np.pi/2, 2*np.pi/3, 3*np.pi/4]\n",
    "\n",
    "X_train_gabor = extract_gabor_features(X_train, frequencies=frequencies, thetas=thetas)\n",
    "X_test_gabor = extract_gabor_features(X_test, frequencies=frequencies, thetas=thetas)\n",
    "\n",
    "y_pred_gabor = nearest_neighbor_classification(X_train_gabor, y_train, X_test_gabor)\n",
    "\n",
    "accuracy_gabor = accuracy_score(y_test, y_pred_gabor)\n",
    "print(f\"Gabor Classification Accuracy: {accuracy_gabor * 100:.2f}%\")\n"
   ]
  },
  {
   "cell_type": "markdown",
   "metadata": {},
   "source": [
    "### **Combinations of the above**"
   ]
  },
  {
   "cell_type": "code",
   "execution_count": 117,
   "metadata": {},
   "outputs": [
    {
     "name": "stdout",
     "output_type": "stream",
     "text": [
      "Combined Classification Accuracy: 59.03%\n"
     ]
    }
   ],
   "source": [
    "def combine_features(*feature_sets):\n",
    "    return np.concatenate(feature_sets, axis=1)\n",
    "\n",
    "X_train_combined = combine_features(X_train_lbp, X_train_glcm, X_train_fourier, X_train_gabor)\n",
    "X_test_combined = combine_features(X_test_lbp, X_test_glcm, X_test_fourier, X_test_gabor)\n",
    "\n",
    "y_pred_combined = nearest_neighbor_classification(X_train_combined, y_train, X_test_combined)\n",
    "\n",
    "accuracy_combined = accuracy_score(y_test, y_pred_combined)\n",
    "print(f\"Combined Classification Accuracy: {accuracy_gabor * 100:.2f}%\")\n"
   ]
  },
  {
   "cell_type": "code",
   "execution_count": 118,
   "metadata": {},
   "outputs": [
    {
     "name": "stdout",
     "output_type": "stream",
     "text": [
      "LBP Classification Accuracy (sklearn): 74.58%\n",
      "GLCM Classification Accuracy (sklearn): 52.48%\n",
      "Fourier Classification Accuracy (sklearn): 51.88%\n",
      "Gabor Classification Accuracy (sklearn): 59.03%\n",
      "Combined Features Classification Accuracy (sklearn): 54.03%\n"
     ]
    }
   ],
   "source": [
    "knn = KNeighborsClassifier(n_neighbors=1, metric='euclidean')\n",
    "\n",
    "knn.fit(X_train_lbp, y_train)\n",
    "y_pred_lbp = knn.predict(X_test_lbp)\n",
    "accuracy_lbp = accuracy_score(y_test, y_pred_lbp)\n",
    "print(f\"LBP Classification Accuracy (sklearn): {accuracy_lbp * 100:.2f}%\")\n",
    "\n",
    "knn.fit(X_train_glcm, y_train)\n",
    "y_pred_glcm = knn.predict(X_test_glcm)\n",
    "accuracy_glcm = accuracy_score(y_test, y_pred_glcm)\n",
    "print(f\"GLCM Classification Accuracy (sklearn): {accuracy_glcm * 100:.2f}%\")\n",
    "\n",
    "knn.fit(X_train_fourier, y_train)\n",
    "y_pred_fourier = knn.predict(X_test_fourier)\n",
    "accuracy_fourier = accuracy_score(y_test, y_pred_fourier)\n",
    "print(f\"Fourier Classification Accuracy (sklearn): {accuracy_fourier * 100:.2f}%\")\n",
    "\n",
    "knn.fit(X_train_gabor, y_train)\n",
    "y_pred_gabor = knn.predict(X_test_gabor)\n",
    "accuracy_gabor = accuracy_score(y_test, y_pred_gabor)\n",
    "print(f\"Gabor Classification Accuracy (sklearn): {accuracy_gabor * 100:.2f}%\")\n",
    "\n",
    "knn.fit(X_train_combined, y_train)\n",
    "y_pred_combined = knn.predict(X_test_combined)\n",
    "accuracy_combined = accuracy_score(y_test, y_pred_combined)\n",
    "print(f\"Combined Features Classification Accuracy (sklearn): {accuracy_combined * 100:.2f}%\")\n"
   ]
  },
  {
   "cell_type": "code",
   "execution_count": 104,
   "metadata": {},
   "outputs": [
    {
     "name": "stdout",
     "output_type": "stream",
     "text": [
      "Feature Type: LBP, Distance Metric: euclidean, Accuracy: 72.11\n",
      "Feature Type: GLCM, Distance Metric: euclidean, Accuracy: 51.92\n",
      "Feature Type: Fourier, Distance Metric: euclidean, Accuracy: 52.01\n",
      "Feature Type: Gabor, Distance Metric: euclidean, Accuracy: 58.98\n",
      "Feature Type: Combined, Distance Metric: euclidean, Accuracy: 53.24\n",
      "\n",
      "Feature Type: LBP, Distance Metric: manhattan, Accuracy: 76.09\n",
      "Feature Type: GLCM, Distance Metric: manhattan, Accuracy: 52.73\n",
      "Feature Type: Fourier, Distance Metric: manhattan, Accuracy: 50.14\n",
      "Feature Type: Gabor, Distance Metric: manhattan, Accuracy: 63.15\n",
      "Feature Type: Combined, Distance Metric: manhattan, Accuracy: 58.15\n",
      "\n",
      "Feature Type: LBP, Distance Metric: minkowski, Accuracy: 72.11\n",
      "Feature Type: GLCM, Distance Metric: minkowski, Accuracy: 51.92\n",
      "Feature Type: Fourier, Distance Metric: minkowski, Accuracy: 52.01\n",
      "Feature Type: Gabor, Distance Metric: minkowski, Accuracy: 58.98\n",
      "Feature Type: Combined, Distance Metric: minkowski, Accuracy: 53.24\n",
      "\n",
      "Feature Type: LBP, Distance Metric: chebyshev, Accuracy: 62.99\n",
      "Feature Type: GLCM, Distance Metric: chebyshev, Accuracy: 50.88\n",
      "Feature Type: Fourier, Distance Metric: chebyshev, Accuracy: 45.67\n",
      "Feature Type: Gabor, Distance Metric: chebyshev, Accuracy: 51.25\n",
      "Feature Type: Combined, Distance Metric: chebyshev, Accuracy: 50.83\n",
      "\n"
     ]
    }
   ],
   "source": [
    "def knn_classification(X_train, y_train, X_test, y_test, n_neighbors=3, metric='euclidean'):\n",
    "    knn = KNeighborsClassifier(n_neighbors=n_neighbors, metric=metric)\n",
    "    knn.fit(X_train, y_train)\n",
    "    y_pred = knn.predict(X_test)\n",
    "    accuracy = accuracy_score(y_test, y_pred)\n",
    "    return accuracy, y_pred\n",
    "\n",
    "distance_metrics = ['euclidean', 'manhattan', 'minkowski', 'chebyshev']\n",
    "\n",
    "for metric in distance_metrics:\n",
    "    for feature_type, X_train, X_test in [\n",
    "        ('LBP', X_train_lbp, X_test_lbp),\n",
    "        ('GLCM', X_train_glcm, X_test_glcm),\n",
    "        ('Fourier', X_train_fourier, X_test_fourier),\n",
    "        ('Gabor', X_train_gabor, X_test_gabor),\n",
    "        ('Combined', X_train_combined, X_test_combined),\n",
    "    ]:\n",
    "        accuracy, y_pred = knn_classification(X_train, y_train, X_test, y_test, metric=metric)\n",
    "        print(f'Feature Type: {feature_type}, Distance Metric: {metric}, Accuracy: {accuracy* 100:.2f}')\n",
    "    print()\n",
    "\n",
    "\n"
   ]
  },
  {
   "cell_type": "code",
   "execution_count": 105,
   "metadata": {},
   "outputs": [
    {
     "name": "stdout",
     "output_type": "stream",
     "text": [
      "Preprocessing: Histogram Equalization, LBP Accuracy: 21.69%\n",
      "Preprocessing: Histogram Equalization, GLCM Accuracy: 4.17%\n",
      "Preprocessing: Histogram Equalization, Fourier Accuracy: 18.19%\n",
      "Preprocessing: Histogram Equalization, Gabor Accuracy: 14.19%\n",
      "Preprocessing: Histogram Equalization, Combined Features Accuracy: 14.19%\n",
      "Preprocessing: CLAHE, LBP Accuracy: 10.93%\n",
      "Preprocessing: CLAHE, GLCM Accuracy: 4.17%\n",
      "Preprocessing: CLAHE, Fourier Accuracy: 21.81%\n",
      "Preprocessing: CLAHE, Gabor Accuracy: 10.00%\n",
      "Preprocessing: CLAHE, Combined Features Accuracy: 10.00%\n"
     ]
    }
   ],
   "source": [
    "# Preprocessing Functions\n",
    "def ensure_grayscale(images):\n",
    "    \"\"\"Ensure all images are 2D grayscale arrays.\"\"\"\n",
    "    processed_images = []\n",
    "    for img in images:\n",
    "        if len(img.shape) == 3:  # If image has 3 channels, convert to grayscale\n",
    "            img = cv2.cvtColor(img, cv2.COLOR_BGR2GRAY)\n",
    "        processed_images.append(img)\n",
    "    return processed_images\n",
    "\n",
    "\n",
    "def histogram_equalization(images):\n",
    "    \"\"\"Apply histogram equalization to a list of images.\"\"\"\n",
    "    processed_images = []\n",
    "    for img in ensure_grayscale(images):\n",
    "        if img.dtype != np.uint8:  # Ensure the image is 8-bit\n",
    "            img = (img * 255).astype(np.uint8)\n",
    "        processed_images.append(cv2.equalizeHist(img))\n",
    "    return processed_images\n",
    "\n",
    "\n",
    "def clahe_equalization(images, clip_limit=2.0, tile_grid_size=(8, 8)):\n",
    "    \"\"\"Apply CLAHE equalization to a list of images.\"\"\"\n",
    "    clahe = cv2.createCLAHE(clipLimit=clip_limit, tileGridSize=tile_grid_size)\n",
    "    processed_images = []\n",
    "    for img in ensure_grayscale(images):\n",
    "        if img.dtype != np.uint8:  # Ensure the image is 8-bit\n",
    "            img = (img * 255).astype(np.uint8)\n",
    "        processed_images.append(clahe.apply(img))\n",
    "    return processed_images\n",
    "\n",
    "\"\"\"\n",
    "def normalize_images(images):\n",
    "    normalized_images = []\n",
    "    for img in ensure_grayscale(images):\n",
    "        normalized_img = (img - np.min(img)) / (np.max(img) - np.min(img))\n",
    "        normalized_images.append(normalized_img)\n",
    "    return normalized_images\n",
    "\"\"\"\n",
    "\n",
    "# Apply Preprocessing\n",
    "X_train_he = histogram_equalization(X_train)\n",
    "X_test_he = histogram_equalization(X_test)\n",
    "\n",
    "X_train_clahe = clahe_equalization(X_train)\n",
    "X_test_clahe = clahe_equalization(X_test)\n",
    "\"\"\"\n",
    "X_train_norm = normalize_images(X_train)\n",
    "X_test_norm = normalize_images(X_test)\n",
    "\"\"\"\n",
    "# Re-extract Features and Evaluate\n",
    "for preprocessed_train, preprocessed_test, label in [\n",
    "    (X_train_he, X_test_he, \"Histogram Equalization\"),\n",
    "    (X_train_clahe, X_test_clahe, \"CLAHE\"),\n",
    "]:\n",
    "    # LBP Features\n",
    "    X_train_lbp = extract_lbp_features(preprocessed_train, radius=radius, n_points=n_points)\n",
    "    X_test_lbp = extract_lbp_features(preprocessed_test, radius=radius, n_points=n_points)\n",
    "    accuracy_lbp, _ = knn_classification(X_train_lbp, y_train, X_test_lbp, y_test, metric='euclidean')\n",
    "    print(f\"Preprocessing: {label}, LBP Accuracy: {accuracy_lbp * 100:.2f}%\")\n",
    "\n",
    "    # GLCM Features\n",
    "    X_train_glcm = extract_glcm_features(preprocessed_train)\n",
    "    X_test_glcm = extract_glcm_features(preprocessed_test)\n",
    "    accuracy_glcm, _ = knn_classification(X_train_glcm, y_train, X_test_glcm, y_test, metric='euclidean')\n",
    "    print(f\"Preprocessing: {label}, GLCM Accuracy: {accuracy_glcm * 100:.2f}%\")\n",
    "\n",
    "    # Fourier Features\n",
    "    X_train_fourier = extract_fourier_features(preprocessed_train)\n",
    "    X_test_fourier = extract_fourier_features(preprocessed_test)\n",
    "    accuracy_fourier, _ = knn_classification(X_train_fourier, y_train, X_test_fourier, y_test, metric='euclidean')\n",
    "    print(f\"Preprocessing: {label}, Fourier Accuracy: {accuracy_fourier * 100:.2f}%\")\n",
    "\n",
    "    # Gabor Features\n",
    "    X_train_gabor = extract_gabor_features(preprocessed_train)\n",
    "    X_test_gabor = extract_gabor_features(preprocessed_test)\n",
    "    accuracy_gabor, _ = knn_classification(X_train_gabor, y_train, X_test_gabor, y_test, metric='euclidean')\n",
    "    print(f\"Preprocessing: {label}, Gabor Accuracy: {accuracy_gabor * 100:.2f}%\")\n",
    "\n",
    "    # Combined Features\n",
    "    X_train_combined = combine_features(X_train_lbp, X_train_glcm, X_train_fourier, X_train_gabor)\n",
    "    X_test_combined = combine_features(X_test_lbp, X_test_glcm, X_test_fourier, X_test_gabor)\n",
    "    accuracy_combined, _ = knn_classification(X_train_combined, y_train, X_test_combined, y_test, metric='euclidean')\n",
    "    print(f\"Preprocessing: {label}, Combined Features Accuracy: {accuracy_combined * 100:.2f}%\")\n",
    "\n",
    "\n",
    "    \n"
   ]
  },
  {
   "cell_type": "code",
   "execution_count": 106,
   "metadata": {},
   "outputs": [
    {
     "name": "stdout",
     "output_type": "stream",
     "text": [
      "[6.39648438e-02 3.72314453e-02 2.77709961e-02 ... 7.38428963e+01\n",
      " 1.32020874e+02 7.50573848e+01]\n",
      "[[ 83]\n",
      " [ 50]\n",
      " [ 48]\n",
      " ...\n",
      " [195]\n",
      " [180]\n",
      " [232]]\n"
     ]
    }
   ],
   "source": [
    "print(X_train[0])\n",
    "print(X_train_he[0])"
   ]
  },
  {
   "cell_type": "code",
   "execution_count": null,
   "metadata": {},
   "outputs": [],
   "source": [
    "\n"
   ]
  },
  {
   "cell_type": "code",
   "execution_count": null,
   "metadata": {},
   "outputs": [],
   "source": [
    " "
   ]
  },
  {
   "cell_type": "code",
   "execution_count": null,
   "metadata": {},
   "outputs": [],
   "source": []
  },
  {
   "cell_type": "code",
   "execution_count": null,
   "metadata": {},
   "outputs": [],
   "source": []
  }
 ],
 "metadata": {
  "kernelspec": {
   "display_name": "Python 3",
   "language": "python",
   "name": "python3"
  },
  "language_info": {
   "codemirror_mode": {
    "name": "ipython",
    "version": 3
   },
   "file_extension": ".py",
   "mimetype": "text/x-python",
   "name": "python",
   "nbconvert_exporter": "python",
   "pygments_lexer": "ipython3",
   "version": "3.12.6"
  }
 },
 "nbformat": 4,
 "nbformat_minor": 2
}
